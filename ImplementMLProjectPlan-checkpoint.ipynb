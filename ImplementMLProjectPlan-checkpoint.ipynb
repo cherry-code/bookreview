{
 "cells": [
  {
   "cell_type": "markdown",
   "metadata": {},
   "source": [
    "# Lab 8: Implement Your Machine Learning Project Plan"
   ]
  },
  {
   "cell_type": "markdown",
   "metadata": {},
   "source": [
    "In this lab assignment, you will implement the machine learning project plan you created in the written assignment. You will:\n",
    "\n",
    "1. Load your data set and save it to a Pandas DataFrame.\n",
    "2. Perform exploratory data analysis on your data to determine which feature engineering and data preparation techniques you will use.\n",
    "3. Prepare your data for your model and create features and a label.\n",
    "4. Fit your model to the training data and evaluate your model.\n",
    "5. Improve your model by performing model selection and/or feature selection techniques to find best model for your problem."
   ]
  },
  {
   "cell_type": "markdown",
   "metadata": {},
   "source": [
    "### Import Packages\n",
    "\n",
    "Before you get started, import a few packages."
   ]
  },
  {
   "cell_type": "code",
   "execution_count": 2,
   "metadata": {},
   "outputs": [],
   "source": [
    "import pandas as pd\n",
    "import numpy as np\n",
    "import os \n",
    "import matplotlib.pyplot as plt\n",
    "import seaborn as sns"
   ]
  },
  {
   "cell_type": "markdown",
   "metadata": {},
   "source": [
    "<b>Task:</b> In the code cell below, import additional packages that you have used in this course that you will need for this task."
   ]
  },
  {
   "cell_type": "code",
   "execution_count": 3,
   "metadata": {},
   "outputs": [],
   "source": [
    "# YOUR CODE HERE\n",
    "from sklearn.feature_extraction.text import TfidfVectorizer\n",
    "from sklearn.model_selection import train_test_split, cross_val_score\n",
    "from sklearn.metrics import plot_roc_curve, accuracy_score, roc_auc_score\n",
    "from sklearn.tree import DecisionTreeClassifier\n",
    "from sklearn.ensemble import RandomForestClassifier\n",
    "from sklearn.ensemble import GradientBoostingClassifier\n",
    "from sklearn.metrics import roc_curve, auc\n",
    "import tensorflow.keras as keras\n",
    "import time\n",
    "from sklearn.model_selection import GridSearchCV\n",
    "from sklearn.model_selection import RandomizedSearchCV\n",
    "from sklearn.ensemble import StackingClassifier"
   ]
  },
  {
   "cell_type": "markdown",
   "metadata": {},
   "source": [
    "## Part 1: Load the Data Set\n",
    "\n",
    "\n",
    "You have chosen to work with one of four data sets. The data sets are located in a folder named \"data.\" The file names of the three data sets are as follows:\n",
    "\n",
    "* The \"adult\" data set that contains Census information from 1994 is located in file `adultData.csv`\n",
    "* The airbnb NYC \"listings\" data set is located in file  `airbnbListingsData.csv`\n",
    "* The World Happiness Report (WHR) data set is located in file `WHR2018Chapter2OnlineData.csv`\n",
    "* The book review data set is located in file `bookReviewsData.csv`\n",
    "\n",
    "\n",
    "\n",
    "<b>Task:</b> In the code cell below, use the same method you have been using to load your data using `pd.read_csv()` and save it to DataFrame `df`."
   ]
  },
  {
   "cell_type": "code",
   "execution_count": 4,
   "metadata": {},
   "outputs": [
    {
     "data": {
      "text/html": [
       "<div>\n",
       "<style scoped>\n",
       "    .dataframe tbody tr th:only-of-type {\n",
       "        vertical-align: middle;\n",
       "    }\n",
       "\n",
       "    .dataframe tbody tr th {\n",
       "        vertical-align: top;\n",
       "    }\n",
       "\n",
       "    .dataframe thead th {\n",
       "        text-align: right;\n",
       "    }\n",
       "</style>\n",
       "<table border=\"1\" class=\"dataframe\">\n",
       "  <thead>\n",
       "    <tr style=\"text-align: right;\">\n",
       "      <th></th>\n",
       "      <th>Review</th>\n",
       "      <th>Positive Review</th>\n",
       "    </tr>\n",
       "  </thead>\n",
       "  <tbody>\n",
       "    <tr>\n",
       "      <th>0</th>\n",
       "      <td>This was perhaps the best of Johannes Steinhof...</td>\n",
       "      <td>True</td>\n",
       "    </tr>\n",
       "    <tr>\n",
       "      <th>1</th>\n",
       "      <td>This very fascinating book is a story written ...</td>\n",
       "      <td>True</td>\n",
       "    </tr>\n",
       "    <tr>\n",
       "      <th>2</th>\n",
       "      <td>The four tales in this collection are beautifu...</td>\n",
       "      <td>True</td>\n",
       "    </tr>\n",
       "    <tr>\n",
       "      <th>3</th>\n",
       "      <td>The book contained more profanity than I expec...</td>\n",
       "      <td>False</td>\n",
       "    </tr>\n",
       "    <tr>\n",
       "      <th>4</th>\n",
       "      <td>We have now entered a second time of deep conc...</td>\n",
       "      <td>True</td>\n",
       "    </tr>\n",
       "  </tbody>\n",
       "</table>\n",
       "</div>"
      ],
      "text/plain": [
       "                                              Review  Positive Review\n",
       "0  This was perhaps the best of Johannes Steinhof...             True\n",
       "1  This very fascinating book is a story written ...             True\n",
       "2  The four tales in this collection are beautifu...             True\n",
       "3  The book contained more profanity than I expec...            False\n",
       "4  We have now entered a second time of deep conc...             True"
      ]
     },
     "execution_count": 4,
     "metadata": {},
     "output_type": "execute_result"
    }
   ],
   "source": [
    "# YOUR CODE HERE\n",
    "bookReviewDataSet_filename = os.path.join(os.getcwd(), \"data\", \"bookReviewsData.csv\")\n",
    "df = pd.read_csv(bookReviewDataSet_filename, header = 0)\n",
    "df.head()"
   ]
  },
  {
   "cell_type": "markdown",
   "metadata": {},
   "source": [
    "## Part 2: Exploratory Data Analysis\n",
    "\n",
    "The next step is to inspect and analyze your data set with your machine learning problem and project plan in mind. \n",
    "\n",
    "This step will help you determine data preparation and feature engineering techniques you will need to apply to your data to build a balanced modeling data set for your problem and model. These data preparation techniques may include:\n",
    "* addressing missingness, such as replacing missing values with means\n",
    "* renaming features and labels\n",
    "* finding and replacing outliers\n",
    "* performing winsorization if needed\n",
    "* performing one-hot encoding on categorical features\n",
    "* performing vectorization for an NLP problem\n",
    "* addressing class imbalance in your data sample to promote fair AI\n",
    "\n",
    "\n",
    "Think of the different techniques you have used to inspect and analyze your data in this course. These include using Pandas to apply data filters, using the Pandas `describe()` method to get insight into key statistics for each column, using the Pandas `dtypes` property to inspect the data type of each column, and using Matplotlib and Seaborn to detect outliers and visualize relationships between features and labels. If you are working on a classification problem, use techniques you have learned to determine if there is class imbalance.\n",
    "\n",
    "\n",
    "<b>Task</b>: Use the techniques you have learned in this course to inspect and analyze your data. \n",
    "\n",
    "<b>Note</b>: You can add code cells if needed by going to the <b>Insert</b> menu and clicking on <b>Insert Cell Below</b> in the drop-drown menu."
   ]
  },
  {
   "cell_type": "code",
   "execution_count": 5,
   "metadata": {},
   "outputs": [
    {
     "name": "stdout",
     "output_type": "stream",
     "text": [
      "Review             0\n",
      "Positive Review    0\n",
      "dtype: int64\n",
      "negative reviews:  False    0.503294\n",
      "True     0.496706\n",
      "Name: Positive Review, dtype: float64 positive reviews:  False    0.503294\n",
      "True     0.496706\n",
      "Name: Positive Review, dtype: float64\n",
      "                                                   Review Positive Review\n",
      "count                                                1973            1973\n",
      "unique                                               1865               2\n",
      "top     I have read several of Hiaasen's books and lov...           False\n",
      "freq                                                    3             993\n",
      "Review             object\n",
      "Positive Review      bool\n",
      "dtype: object\n"
     ]
    }
   ],
   "source": [
    "# YOUR CODE HERE\n",
    "\n",
    "#addressing missingness\n",
    "print(df.isnull().sum())\n",
    "\n",
    "#addressing class imbalance\n",
    "positive_reviews = df['Positive Review'].value_counts('True')\n",
    "negative_reviews = df['Positive Review'].value_counts('False')\n",
    "\n",
    "print('negative reviews: ', negative_reviews,'positive reviews: ', positive_reviews)\n",
    "\n",
    "print(df.describe())\n",
    "\n",
    "print(df.dtypes)"
   ]
  },
  {
   "cell_type": "markdown",
   "metadata": {},
   "source": [
    "## Part 3: Implement Your Project Plan\n",
    "\n",
    "<b>Task:</b> Use the rest of this notebook to carry out your project plan. You will:\n",
    "\n",
    "1. Prepare your data for your model and create features and a label.\n",
    "2. Fit your model to the training data and evaluate your model.\n",
    "3. Improve your model by performing model selection and/or feature selection techniques to find best model for your problem.\n",
    "\n",
    "\n",
    "Add code cells below and populate the notebook with commentary, code, analyses, results, and figures as you see fit."
   ]
  },
  {
   "cell_type": "code",
   "execution_count": 6,
   "metadata": {},
   "outputs": [
    {
     "name": "stdout",
     "output_type": "stream",
     "text": [
      "19029\n"
     ]
    }
   ],
   "source": [
    "#creating x and y\n",
    "y = df['Positive Review']\n",
    "X = df['Review']\n",
    "\n",
    "#splitting data\n",
    "X_train, X_test, y_train, y_test = train_test_split(X, y, test_size = 0.20, random_state = 1234)\n",
    "\n",
    "#performing vectorization\n",
    "tfidf_vectorizer = TfidfVectorizer()\n",
    "\n",
    "tfidf_vectorizer.fit(X_train)\n",
    "\n",
    "X_train_tfidf = tfidf_vectorizer.transform(X_train)\n",
    "X_test_tfidf = tfidf_vectorizer.transform(X_test)\n",
    "\n",
    "vocabulary_size = len(tfidf_vectorizer.vocabulary_)\n",
    "\n",
    "print(vocabulary_size)"
   ]
  },
  {
   "cell_type": "code",
   "execution_count": 6,
   "metadata": {},
   "outputs": [],
   "source": [
    "#Decision Tree\n",
    "def train_test_DT(X_train, X_test, y_train, y_test, leaf, depth, crit='entropy'):\n",
    "    \n",
    "     # 1. Create the  Scikit-learn DecisionTreeClassifier model object below and assign to variable 'model'\n",
    "    dt_model = DecisionTreeClassifier(criterion = crit, max_depth = depth, min_samples_leaf = leaf)\n",
    "\n",
    "    # 2. Fit the model to the training data below\n",
    "    dt_model.fit(X_train, y_train)\n",
    "    \n",
    "    # 3. Make predictions on the test data below and assign the result to the variable 'class_label_predictions'\n",
    "    class_label_predictions_dt = dt_model.predict(X_test)\n",
    "\n",
    "    # 4. Compute the accuracy here and save the result to the variable 'acc_score'\n",
    "    acc_score = accuracy_score(y_test, class_label_predictions_dt)\n",
    "        \n",
    "    \n",
    "    return acc_score\n"
   ]
  },
  {
   "cell_type": "code",
   "execution_count": 7,
   "metadata": {},
   "outputs": [
    {
     "name": "stdout",
     "output_type": "stream",
     "text": [
      "Depth=17, accuracy score: 0.6227848101265823\n",
      "Depth=18, accuracy score: 0.6329113924050633\n",
      "Depth=19, accuracy score: 0.640506329113924\n",
      "Depth=20, accuracy score: 0.6531645569620254\n",
      "Depth=21, accuracy score: 0.6227848101265823\n",
      "Depth=22, accuracy score: 0.6455696202531646\n",
      "Depth=23, accuracy score: 0.6455696202531646\n",
      "Depth=46, accuracy score: 0.640506329113924\n",
      "Depth=47, accuracy score: 0.6379746835443038\n",
      "Depth=48, accuracy score: 0.6303797468354431\n",
      "Depth=49, accuracy score: 0.6379746835443038\n",
      "Depth=50, accuracy score: 0.6455696202531646\n",
      "[0.6227848101265823, 0.6329113924050633, 0.640506329113924, 0.6531645569620254, 0.6227848101265823, 0.6455696202531646, 0.6455696202531646, 0.640506329113924, 0.6379746835443038, 0.6303797468354431, 0.6379746835443038, 0.6455696202531646]\n"
     ]
    }
   ],
   "source": [
    "depth1 = 2 \n",
    "depth2 = 50\n",
    "leaf = 1\n",
    "\n",
    "max_depth_range = [17,18,19,20,21,22,23,46,47,48,49,depth2]\n",
    "acc = []\n",
    "\n",
    "for md in max_depth_range:\n",
    "    score = train_test_DT(X_train_tfidf.toarray(), X_test_tfidf.toarray(), y_train, y_test, 1, md)\n",
    "    print('Depth=' + str(md) + ', accuracy score: ' + str(score))\n",
    "    acc.append(float(score))\n",
    "\n",
    "print(acc)\n"
   ]
  },
  {
   "cell_type": "code",
   "execution_count": 8,
   "metadata": {},
   "outputs": [
    {
     "data": {
      "text/plain": [
       "{'max_depth': [4, 6, 8, 10, 12, 14, 16, 18, 20, 22, 24, 26, 28],\n",
       " 'min_samples_leaf': [25, 50, 100]}"
      ]
     },
     "execution_count": 8,
     "metadata": {},
     "output_type": "execute_result"
    }
   ],
   "source": [
    "# Create a range of hyperparameter values for 'max_depth'. \n",
    "#Note these are the same values as those we used above\n",
    "hyperparams_depth = [2*n for n in range(2,15)]\n",
    "\n",
    "# Create a range of hyperparameter values for 'min_samples_leaf'. \n",
    "hyperparams_leaf = [25*2**n for n in range(0,3)]\n",
    "\n",
    "# Create parameter grid.\n",
    "param_grid={'max_depth':hyperparams_depth, 'min_samples_leaf':hyperparams_leaf}\n",
    "param_grid\n"
   ]
  },
  {
   "cell_type": "code",
   "execution_count": 9,
   "metadata": {},
   "outputs": [
    {
     "name": "stdout",
     "output_type": "stream",
     "text": [
      "Running Grid Search...\n",
      "Done\n",
      "Optimal hyperparameters: {'max_depth': 8, 'min_samples_leaf': 25}\n",
      "Accuracy score: 0.6698191681735985\n"
     ]
    }
   ],
   "source": [
    "print('Running Grid Search...')\n",
    "\n",
    "DT_model = DecisionTreeClassifier()\n",
    "\n",
    "# Run a Grid Search with 5-fold cross-validation using the model.\n",
    "grid = GridSearchCV(DT_model, param_grid, cv=5)\n",
    "\n",
    "# Fit the model on the training data and assign the fitted model to the \n",
    "#    variable grid_search\n",
    "grid_search = grid.fit(X_train_tfidf.toarray(), y_train)\n",
    "\n",
    "print('Done')\n",
    "\n",
    "# Print best-performing hyperparameter configuration\n",
    "print('Optimal hyperparameters: {0}'.format(grid_search.best_params_))\n",
    "\n",
    "# print best accuracy score resulting from this configuration\n",
    "print('Accuracy score: {0}'.format(grid_search.best_score_))"
   ]
  },
  {
   "cell_type": "markdown",
   "metadata": {},
   "source": [
    "**Best Hyperparameters:**\n",
    "- max_depth = 8\n",
    "- min_samples_leaf = 25\n",
    "\n",
    "AUC: 0.706850579427751"
   ]
  },
  {
   "cell_type": "code",
   "execution_count": 10,
   "metadata": {},
   "outputs": [
    {
     "name": "stdout",
     "output_type": "stream",
     "text": [
      "AUC: 0.7051840836837248\n"
     ]
    }
   ],
   "source": [
    "dt_model = DecisionTreeClassifier(max_depth = 8, min_samples_leaf = 25)\n",
    "dt_model.fit(X_train_tfidf.toarray(), y_train)\n",
    "predictions_proba = dt_model.predict_proba(X_test_tfidf.toarray())[:, 1]  \n",
    "auc = roc_auc_score(y_test, predictions_proba)\n",
    "print(\"AUC:\", auc)"
   ]
  },
  {
   "cell_type": "code",
   "execution_count": 11,
   "metadata": {},
   "outputs": [
    {
     "name": "stdout",
     "output_type": "stream",
     "text": [
      "Begin Random Forest Implementation...\n",
      "End\n"
     ]
    }
   ],
   "source": [
    "# Random Forest\n",
    "print('Begin Random Forest Implementation...')\n",
    "# 1. Create the RandomForestClassifier model object below and assign to variable 'rf_20_model'\n",
    "rf_20_model = RandomForestClassifier(criterion='entropy', n_estimators=20)\n",
    "\n",
    "# 2. Fit the model to the training data below\n",
    "rf_20_model.fit(X_train_tfidf.toarray(), y_train)\n",
    "\n",
    "# 3. Make predictions on the test data using the predict_proba() method and assign the result to a \n",
    "# list named 'rf_20_predictions' below\n",
    "rf_20_predictions = rf_20_model.predict_proba(X_test_tfidf.toarray())[:,1].tolist()\n",
    "\n",
    "# 4. Create the RandomForestClassifier model object below and assign to variable 'rf_100_model'\n",
    "rf_100_model = RandomForestClassifier(criterion='entropy', n_estimators=100)\n",
    "\n",
    "# 5. Fit the model to the training data below\n",
    "rf_100_model.fit(X_train_tfidf.toarray(), y_train)\n",
    "\n",
    "# 6. Make predictions on the test data using the predict_proba() method and assign the result to a \n",
    "# list named 'rf_100_predictions' below\n",
    "rf_100_predictions = rf_100_model.predict_proba(X_test_tfidf.toarray())[:,1].tolist()\n",
    "\n",
    "print('End')"
   ]
  },
  {
   "cell_type": "code",
   "execution_count": 12,
   "metadata": {},
   "outputs": [
    {
     "name": "stdout",
     "output_type": "stream",
     "text": [
      "Computing ROC Curve...\n",
      "End\n"
     ]
    }
   ],
   "source": [
    "print('Computing ROC Curve...')\n",
    "\n",
    "#1. Use roc_curve to record fpr and tpr for rf_20_model\n",
    "fpr_20, tpr_20, thresholds_20 = roc_curve(y_test, rf_20_predictions)\n",
    "\n",
    "#2. Use roc_curve to record fpr and tpr for rf_100_model\n",
    "fpr_100, tpr_100, thresholds_100 = roc_curve(y_test, rf_100_predictions)\n",
    "\n",
    "print('End')"
   ]
  },
  {
   "cell_type": "code",
   "execution_count": 13,
   "metadata": {},
   "outputs": [
    {
     "name": "stdout",
     "output_type": "stream",
     "text": [
      "AUC of the RF model with 20 estimators is 0.840\n",
      "AUC of the RF model with 100 estimators is 0.898\n"
     ]
    }
   ],
   "source": [
    "auc_20 = roc_auc_score(y_test, rf_20_predictions)\n",
    "\n",
    "print(\"AUC of the RF model with 20 estimators is {:.3f}\".format(auc_20))\n",
    "\n",
    "# 2. AUC for rf_100_model\n",
    "auc_100 = roc_auc_score(y_test, rf_100_predictions)\n",
    "\n",
    "print(\"AUC of the RF model with 100 estimators is {:.3f}\".format(auc_100))"
   ]
  },
  {
   "cell_type": "code",
   "execution_count": 14,
   "metadata": {},
   "outputs": [
    {
     "name": "stdout",
     "output_type": "stream",
     "text": [
      "Plotting ROC Curve...\n"
     ]
    },
    {
     "data": {
      "image/png": "[encoded data removed]",
      "text/plain": [
       "<Figure size 432x288 with 1 Axes>"
      ]
     },
     "metadata": {
      "needs_background": "light"
     },
     "output_type": "display_data"
    }
   ],
   "source": [
    "print('Plotting ROC Curve...')\n",
    "\n",
    "fig = plt.figure()\n",
    "ax = fig.add_subplot(111)\n",
    "\n",
    "\n",
    "sns.lineplot(x=fpr_20, y=tpr_20, marker = 'o')\n",
    "sns.lineplot(x=fpr_100, y=tpr_100, marker = 'o')\n",
    "\n",
    "plt.title(\"Receiver operating characteristic (ROC) curve\")\n",
    "plt.xlabel(\"False positive rate\")\n",
    "plt.ylabel(\"True positive rate\")\n",
    "plt.legend(['RF with 20 estimators', 'RF with 100 estimators'])\n",
    "plt.show()"
   ]
  },
  {
   "cell_type": "markdown",
   "metadata": {},
   "source": [
    "**Best parameters:**\n",
    "- rf model with 200 estimators, min_samples_leaf:4, max_depth:20\n",
    "\n",
    "auc = 0.907\n"
   ]
  },
  {
   "cell_type": "code",
   "execution_count": 15,
   "metadata": {},
   "outputs": [
    {
     "name": "stdout",
     "output_type": "stream",
     "text": [
      "Best parameters: {'n_estimators': 200, 'min_samples_leaf': 4, 'max_depth': 20}\n"
     ]
    }
   ],
   "source": [
    "# Random Forest Model\n",
    "rf_model = RandomForestClassifier(criterion='entropy')\n",
    "\n",
    "# using grid search to find best parameters\n",
    "rf_param_grid = {\n",
    "    'n_estimators': [50, 100, 150, 200],              \n",
    "    'max_depth': [None, 10, 20, 30],                 \n",
    "    'min_samples_leaf': [1, 2, 4, 6, 8],  \n",
    "}\n",
    "\n",
    "rf_randomized_search = RandomizedSearchCV(rf_model, rf_param_grid, cv=3, scoring='accuracy')\n",
    "rf_randomized_search.fit(X_train_tfidf.toarray(), y_train)\n",
    "\n",
    "best_params = rf_randomized_search.best_params_\n",
    "print(\"Best parameters:\", best_params)"
   ]
  },
  {
   "cell_type": "code",
   "execution_count": 16,
   "metadata": {},
   "outputs": [
    {
     "name": "stdout",
     "output_type": "stream",
     "text": [
      "Computing ROC Curve...\n",
      "End\n",
      "AUC of the RF model with 150 estimators is 0.907\n"
     ]
    }
   ],
   "source": [
    "#Best random forest model\n",
    "\n",
    "rf_best_model = RandomForestClassifier(criterion='entropy', n_estimators=150, min_samples_leaf=2,max_depth=30)\n",
    "rf_best_model.fit(X_train_tfidf.toarray(), y_train)\n",
    "rf_best_predictions = rf_best_model.predict_proba(X_test_tfidf.toarray())[:,1].tolist()\n",
    "\n",
    "print('Computing ROC Curve...')\n",
    "\n",
    "#Use roc_curve to record fpr and tpr for rf_best_model\n",
    "fpr_best, tpr_best, thresholds_best = roc_curve(y_test, rf_best_predictions)\n",
    "\n",
    "print('End')\n",
    "\n",
    "auc_best = roc_auc_score(y_test, rf_best_predictions)\n",
    "\n",
    "print(\"AUC of the RF model with 150 estimators is {:.3f}\".format(auc_best))"
   ]
  },
  {
   "cell_type": "code",
   "execution_count": 17,
   "metadata": {},
   "outputs": [
    {
     "name": "stdout",
     "output_type": "stream",
     "text": [
      "Begin Best GBDT Implementation...\n",
      "End\n"
     ]
    }
   ],
   "source": [
    "# GBDT BEST\n",
    "print('Begin Best GBDT Implementation...')\n",
    "\n",
    "# 1. Create the GradientBoostingClassifier model object \n",
    "gbdt_best_model = GradientBoostingClassifier(n_estimators = 200, max_depth = 2)\n",
    "\n",
    "# 2. Fit the model to the training data below\n",
    "gbdt_best_model.fit(X_train_tfidf.toarray(), y_train)\n",
    "\n",
    "# 3. Make predictions on the test data using the predict_proba() method\n",
    "gbdt_best_predictions = gbdt_best_model.predict_proba(X_test_tfidf.toarray())[:,1].tolist()\n",
    "\n",
    "print('End')"
   ]
  },
  {
   "cell_type": "code",
   "execution_count": 20,
   "metadata": {},
   "outputs": [
    {
     "name": "stdout",
     "output_type": "stream",
     "text": [
      "AUC of the GBDT model with a max depth of 2 is 0.878\n"
     ]
    }
   ],
   "source": [
    "# AUC for gbdt_best_model\n",
    "auc_gbdt_best = roc_auc_score(y_test, gbdt_best_predictions)\n",
    "\n",
    "print(\"AUC of the GBDT model with a max depth of 2 is {:.3f}\".format(auc_gbdt_best))\n"
   ]
  },
  {
   "cell_type": "markdown",
   "metadata": {},
   "source": [
    "n_estimators = 50\n",
    "- AUC of the GBDT model with a max depth of 2 is 0.838\n",
    "- AUC of the GBDT model with a max depth of 10 is 0.855\n",
    "\n",
    "n_estimators = 100\n",
    "- AUC of the GBDT model with a max depth of 10 is 0.873\n",
    "- AUC of the GBDT model with a max depth of 2 is 0.866\n",
    "\n",
    "n_estimators = 200\n",
    "- AUC of the GBDT model with a max depth of 2 is 0.879\n",
    "- AUC of the GBDT model with a max depth of 10 is 0.877"
   ]
  },
  {
   "cell_type": "code",
   "execution_count": null,
   "metadata": {},
   "outputs": [],
   "source": [
    "print('Plotting ROC Curve...')\n",
    "\n",
    "fig = plt.figure()\n",
    "ax = fig.add_subplot(111)\n",
    "\n",
    "sns.lineplot(x=fpr_gbdt_best, y=tpr_gbdt_best, marker = 'o')\n",
    "\n",
    "plt.title(\"Receiver operating characteristic (ROC) curve\")\n",
    "plt.xlabel(\"False positive rate\")\n",
    "plt.ylabel(\"True positive rate\")\n",
    "plt.legend(['BEST GBDT MODEL'])\n",
    "plt.show()"
   ]
  },
  {
   "cell_type": "markdown",
   "metadata": {},
   "source": [
    "With best parameters, make the optimal model"
   ]
  },
  {
   "cell_type": "code",
   "execution_count": 21,
   "metadata": {},
   "outputs": [
    {
     "name": "stdout",
     "output_type": "stream",
     "text": [
      "Model: \"sequential\"\n",
      "_________________________________________________________________\n",
      "Layer (type)                 Output Shape              Param #   \n",
      "=================================================================\n",
      "dense (Dense)                (None, 64)                1217920   \n",
      "_________________________________________________________________\n",
      "dropout (Dropout)            (None, 64)                0         \n",
      "_________________________________________________________________\n",
      "dense_1 (Dense)              (None, 32)                2080      \n",
      "_________________________________________________________________\n",
      "dropout_1 (Dropout)          (None, 32)                0         \n",
      "_________________________________________________________________\n",
      "dense_2 (Dense)              (None, 16)                528       \n",
      "_________________________________________________________________\n",
      "dropout_2 (Dropout)          (None, 16)                0         \n",
      "_________________________________________________________________\n",
      "dense_3 (Dense)              (None, 1)                 17        \n",
      "=================================================================\n",
      "Total params: 1,220,545\n",
      "Trainable params: 1,220,545\n",
      "Non-trainable params: 0\n",
      "_________________________________________________________________\n"
     ]
    }
   ],
   "source": [
    "# 1. Create model object\n",
    "nn_model = keras.Sequential()\n",
    "\n",
    "# 2. Create the input layer and add it to the model object: \n",
    "\n",
    "# Create input layer:\n",
    "input_layer = keras.layers.InputLayer(input_shape=(vocabulary_size,))\n",
    "\n",
    "# Add input_layer to the model object:\n",
    "nn_model.add(input_layer)\n",
    "\n",
    "\n",
    "# 3. Create the first hidden layer and add it to the model object:\n",
    "\n",
    "# Create input layer:\n",
    "hidden_layer_1 = keras.layers.Dense(units=64, activation = 'relu')\n",
    "\n",
    "# Add hidden_layer_1 to the model object:\n",
    "nn_model.add(hidden_layer_1)\n",
    "nn_model.add(keras.layers.Dropout(.25))\n",
    "\n",
    "# 4. Create the second layer and add it to the model object:\n",
    "\n",
    "# Create input layer:\n",
    "hidden_layer_2 = keras.layers.Dense(units=32, activation = 'relu')\n",
    "\n",
    "# Add hidden_layer_2 to the model object:\n",
    "nn_model.add(hidden_layer_2)\n",
    "nn_model.add(keras.layers.Dropout(.25))\n",
    "\n",
    "# 5. Create the third layer and add it to the model object:\n",
    "\n",
    "# Create input layer:\n",
    "hidden_layer_3 = keras.layers.Dense(units=16, activation='relu')\n",
    "\n",
    "# Add hidden_layer_3 to the model object:\n",
    "nn_model.add(hidden_layer_3)\n",
    "nn_model.add(keras.layers.Dropout(.25))\n",
    "\n",
    "# 6. Create the output layer and add it to the model object:\n",
    "\n",
    "# Create input layer:\n",
    "output_layer = keras.layers.Dense(units = 1, activation='sigmoid')\n",
    "\n",
    "# Add output_layer to the model object:\n",
    "nn_model.add(output_layer)\n",
    "\n",
    "\n",
    "# Print summary of neural network model structure\n",
    "nn_model.summary()\n"
   ]
  },
  {
   "cell_type": "code",
   "execution_count": 22,
   "metadata": {},
   "outputs": [],
   "source": [
    "sgd_optimizer = keras.optimizers.SGD(learning_rate = 0.1)\n",
    "\n",
    "loss_fn = keras.losses.BinaryCrossentropy(from_logits=False)\n",
    "\n",
    "nn_model.compile(optimizer=sgd_optimizer, loss=loss_fn, metrics=['accuracy'])"
   ]
  },
  {
   "cell_type": "code",
   "execution_count": 23,
   "metadata": {},
   "outputs": [],
   "source": [
    "class ProgBarLoggerNEpochs(keras.callbacks.Callback):\n",
    "    \n",
    "    def __init__(self, num_epochs: int, every_n: int = 50):\n",
    "        self.num_epochs = num_epochs\n",
    "        self.every_n = every_n\n",
    "    \n",
    "    def on_epoch_end(self, epoch, logs=None):\n",
    "        if (epoch + 1) % self.every_n == 0:\n",
    "            s = 'Epoch [{}/ {}]'.format(epoch + 1, self.num_epochs)\n",
    "            logs_s = ['{}: {:.4f}'.format(k.capitalize(), v)\n",
    "                      for k, v in logs.items()]\n",
    "            s_list = [s] + logs_s\n",
    "            print(', '.join(s_list))"
   ]
  },
  {
   "cell_type": "code",
   "execution_count": 24,
   "metadata": {},
   "outputs": [
    {
     "name": "stdout",
     "output_type": "stream",
     "text": [
      "Epoch [50/ 50], Loss: 0.3780, Accuracy: 0.9049, Val_loss: 0.4397, Val_accuracy: 0.7880\n",
      "Elapsed time: 38.93s\n",
      "13/13 [==============================] - 0s 10ms/step - loss: 0.4121 - accuracy: 0.8253\n",
      "50/50 [==============================] - 0s 7ms/step - loss: 0.1400 - accuracy: 0.9575\n",
      "Loss:  0.4121495187282562 Accuracy:  0.8253164291381836\n",
      "Loss:  0.13998398184776306 Accuracy:  0.9575411677360535\n"
     ]
    }
   ],
   "source": [
    "t0 = time.time() # start time\n",
    "\n",
    "#epochs\n",
    "\n",
    "num_epochs = 50  # You can adjust this value based on your experimentation\n",
    "\n",
    "# Train the model using batches of training data\n",
    "history = nn_model.fit(X_train_tfidf.toarray(), y_train, epochs = num_epochs, verbose = 0, callbacks = [ProgBarLoggerNEpochs(num_epochs, every_n = 50)], validation_split = 0.2)\n",
    "\n",
    "\n",
    "t1 = time.time() # stop time\n",
    "#\n",
    "print('Elapsed time: %.2fs' % (t1-t0))\n",
    "\n",
    "loss, accuracy = nn_model.evaluate(X_test_tfidf.toarray(), y_test)\n",
    "loss_train, accuracy_train = nn_model.evaluate(X_train_tfidf.toarray(), y_train)\n",
    "\n",
    "print('Loss: ', str(loss) , 'Accuracy: ', str(accuracy))\n",
    "print('Loss: ', str(loss_train) , 'Accuracy: ', str(accuracy_train))"
   ]
  },
  {
   "cell_type": "code",
   "execution_count": 25,
   "metadata": {},
   "outputs": [
    {
     "data": {
      "text/plain": [
       "0.9025228181724951"
      ]
     },
     "execution_count": 25,
     "metadata": {},
     "output_type": "execute_result"
    }
   ],
   "source": [
    "nn_predictions = nn_model.predict(X_test_tfidf.toarray())\n",
    "auc_score = roc_auc_score(y_test, nn_predictions)\n",
    "auc_score"
   ]
  },
  {
   "cell_type": "markdown",
   "metadata": {},
   "source": [
    "Try to find best parameters for neural network model\n",
    "\n",
    "compare each one's auc\n"
   ]
  },
  {
   "cell_type": "markdown",
   "metadata": {},
   "source": [
    "Ranking based on auc score:\n",
    "1. Random Forest model - 0.906\n",
    "2. Neural Network model - 0.903\n",
    "3. Gradient Boosting Decision Tree model - 0.878\n",
    "4. Decision Tree model - 0.705\n",
    "\n",
    "## On different runs, neural network performs better. Interchangeable!"
   ]
  },
  {
   "cell_type": "markdown",
   "metadata": {},
   "source": [
    "**couldn't perform grid search cross validation on gradient boosting as it took too long and did it manually**\n"
   ]
  },
  {
   "cell_type": "markdown",
   "metadata": {},
   "source": [
    "try stacking model with all these models combined"
   ]
  },
  {
   "cell_type": "code",
   "execution_count": null,
   "metadata": {},
   "outputs": [],
   "source": [
    "#TAKES TOO LONG TO RUN - tried simplifying the stack by taking decision tree and neural network but won't work\n",
    "\n",
    "estimators = [(\"RF\", RandomForestClassifier()),\n",
    "              (\"GBDT\", GradientBoostingClassifier()),\n",
    "             ]\n",
    "\n",
    "stacking_model = StackingClassifier(estimators = estimators, cv = 3, passthrough = False)\n",
    "\n",
    "print('Performing Cross-Validation...')\n",
    "\n",
    "# Choose an appropriate classification scoring metric (e.g., accuracy)\n",
    "accuracy_avg = np.mean(cross_val_score(stacking_model, X_train_tfidf.toarray(), y_train, cv=3, scoring='accuracy'))\n",
    "\n",
    "print('End')\n",
    "print('average accuracy: {}'.format(accuracy_avg))\n",
    "\n",
    "stacking_model.fit(X_train_tfidf.toarray(), y_train)\n",
    "\n",
    "stacking_predictions = stacking_model.predict(X_test_tfidf.toarray())\n",
    "auc_stacking = roc_auc_score(y_test, stacking_predictions)"
   ]
  },
  {
   "cell_type": "code",
   "execution_count": null,
   "metadata": {},
   "outputs": [],
   "source": []
  }
 ],
 "metadata": {
  "kernelspec": {
   "display_name": "Python 3",
   "language": "python",
   "name": "python3"
  },
  "language_info": {
   "codemirror_mode": {
    "name": "ipython",
    "version": 3
   },
   "file_extension": ".py",
   "mimetype": "text/x-python",
   "name": "python",
   "nbconvert_exporter": "python",
   "pygments_lexer": "ipython3",
   "version": "3.6.9"
  },
  "toc": {
   "base_numbering": 1,
   "nav_menu": {},
   "number_sections": false,
   "sideBar": true,
   "skip_h1_title": false,
   "title_cell": "Table of Contents",
   "title_sidebar": "Contents",
   "toc_cell": false,
   "toc_position": {},
   "toc_section_display": true,
   "toc_window_display": false
  },
  "varInspector": {
   "cols": {
    "lenName": 16,
    "lenType": 16,
    "lenVar": 40
   },
   "kernels_config": {
    "python": {
     "delete_cmd_postfix": "",
     "delete_cmd_prefix": "del ",
     "library": "var_list.py",
     "varRefreshCmd": "print(var_dic_list())"
    },
    "r": {
     "delete_cmd_postfix": ") ",
     "delete_cmd_prefix": "rm(",
     "library": "var_list.r",
     "varRefreshCmd": "cat(var_dic_list()) "
    }
   },
   "types_to_exclude": [
    "module",
    "function",
    "builtin_function_or_method",
    "instance",
    "_Feature"
   ],
   "window_display": false
  }
 },
 "nbformat": 4,
 "nbformat_minor": 2
}
